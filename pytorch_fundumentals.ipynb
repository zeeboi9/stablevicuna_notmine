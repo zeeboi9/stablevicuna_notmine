{
  "cells": [
    {
      "cell_type": "markdown",
      "metadata": {
        "id": "view-in-github",
        "colab_type": "text"
      },
      "source": [
        "<a href=\"https://colab.research.google.com/github/zeeboi9/stablevicuna_notmine/blob/main/pytorch_fundumentals.ipynb\" target=\"_parent\"><img src=\"https://colab.research.google.com/assets/colab-badge.svg\" alt=\"Open In Colab\"/></a>"
      ]
    },
    {
      "cell_type": "code",
      "execution_count": 36,
      "metadata": {
        "colab": {
          "base_uri": "https://localhost:8080/"
        },
        "id": "p6IpypaHuT0O",
        "outputId": "e718a48a-f74c-4136-ac27-5a8b8c32fbc1"
      },
      "outputs": [
        {
          "output_type": "stream",
          "name": "stdout",
          "text": [
            "/bin/bash: line 1: nvidia-smi: command not found\n"
          ]
        }
      ],
      "source": [
        "!nvidia-smi"
      ]
    },
    {
      "cell_type": "code",
      "execution_count": 37,
      "metadata": {
        "colab": {
          "base_uri": "https://localhost:8080/"
        },
        "id": "wYMvYNefv0n3",
        "outputId": "4461598f-548c-4e29-d583-1f6be25071b1"
      },
      "outputs": [
        {
          "output_type": "stream",
          "name": "stdout",
          "text": [
            "2.0.1+cu118\n"
          ]
        }
      ],
      "source": [
        "import torch\n",
        "import pandas as pd\n",
        "import numpy as np\n",
        "import matplotlib.pyplot as plt\n",
        "print(torch.__version__)"
      ]
    },
    {
      "cell_type": "code",
      "execution_count": 38,
      "metadata": {
        "colab": {
          "base_uri": "https://localhost:8080/"
        },
        "id": "mBMdpvd5xdtl",
        "outputId": "b392e983-48f1-4cc7-bfba-6b6bff265686"
      },
      "outputs": [
        {
          "output_type": "execute_result",
          "data": {
            "text/plain": [
              "tensor(6)"
            ]
          },
          "metadata": {},
          "execution_count": 38
        }
      ],
      "source": [
        "# scaler tensor\n",
        "scalar =torch.tensor(6)\n",
        "scalar"
      ]
    },
    {
      "cell_type": "code",
      "execution_count": 39,
      "metadata": {
        "colab": {
          "base_uri": "https://localhost:8080/"
        },
        "id": "b_cArplzypu8",
        "outputId": "4e0c3c23-0586-4055-f2fd-d7cf99fe1024"
      },
      "outputs": [
        {
          "output_type": "execute_result",
          "data": {
            "text/plain": [
              "0"
            ]
          },
          "metadata": {},
          "execution_count": 39
        }
      ],
      "source": [
        "scalar.ndim"
      ]
    },
    {
      "cell_type": "code",
      "execution_count": 40,
      "metadata": {
        "colab": {
          "base_uri": "https://localhost:8080/"
        },
        "id": "IaGQDrLCywMg",
        "outputId": "4489d9a3-a055-48dd-8e85-d82f8e589eaf"
      },
      "outputs": [
        {
          "output_type": "execute_result",
          "data": {
            "text/plain": [
              "6"
            ]
          },
          "metadata": {},
          "execution_count": 40
        }
      ],
      "source": [
        "scalar.item()"
      ]
    },
    {
      "cell_type": "code",
      "execution_count": 41,
      "metadata": {
        "colab": {
          "base_uri": "https://localhost:8080/"
        },
        "id": "K3h014kvy4C2",
        "outputId": "3a68dde7-17b7-4a4c-94d5-d7f57e308f56"
      },
      "outputs": [
        {
          "output_type": "execute_result",
          "data": {
            "text/plain": [
              "tensor([7, 7])"
            ]
          },
          "metadata": {},
          "execution_count": 41
        }
      ],
      "source": [
        "vector = torch.tensor([7,7])\n",
        "vector"
      ]
    },
    {
      "cell_type": "code",
      "execution_count": 42,
      "metadata": {
        "colab": {
          "base_uri": "https://localhost:8080/"
        },
        "id": "KDDL065uzw5X",
        "outputId": "f7268bfa-0fc3-412e-8673-038ff904c8c0"
      },
      "outputs": [
        {
          "output_type": "execute_result",
          "data": {
            "text/plain": [
              "1"
            ]
          },
          "metadata": {},
          "execution_count": 42
        }
      ],
      "source": [
        "vector.ndim"
      ]
    },
    {
      "cell_type": "code",
      "execution_count": 43,
      "metadata": {
        "colab": {
          "base_uri": "https://localhost:8080/"
        },
        "id": "oauXLHKjz44x",
        "outputId": "4ff59f64-84ce-4152-fa9f-c317cfb48794"
      },
      "outputs": [
        {
          "output_type": "execute_result",
          "data": {
            "text/plain": [
              "torch.Size([2])"
            ]
          },
          "metadata": {},
          "execution_count": 43
        }
      ],
      "source": [
        "vector.shape"
      ]
    },
    {
      "cell_type": "code",
      "execution_count": 44,
      "metadata": {
        "colab": {
          "base_uri": "https://localhost:8080/"
        },
        "id": "2PF1oAe3z_tO",
        "outputId": "588b515c-98d0-4144-926b-49b141b26aff"
      },
      "outputs": [
        {
          "output_type": "execute_result",
          "data": {
            "text/plain": [
              "tensor([[5, 6],\n",
              "        [7, 8]])"
            ]
          },
          "metadata": {},
          "execution_count": 44
        }
      ],
      "source": [
        "#matrix\n",
        "matrix=torch.tensor([[5, 6],\n",
        "                     [7, 8]])\n",
        "matrix"
      ]
    },
    {
      "cell_type": "code",
      "execution_count": 45,
      "metadata": {
        "colab": {
          "base_uri": "https://localhost:8080/"
        },
        "id": "BBxSwr_z2qGD",
        "outputId": "d5b31e28-0a29-41f9-d208-051c550bde65"
      },
      "outputs": [
        {
          "output_type": "execute_result",
          "data": {
            "text/plain": [
              "2"
            ]
          },
          "metadata": {},
          "execution_count": 45
        }
      ],
      "source": [
        "matrix.ndim"
      ]
    },
    {
      "cell_type": "code",
      "execution_count": 46,
      "metadata": {
        "colab": {
          "base_uri": "https://localhost:8080/"
        },
        "id": "cAQbUMgn2wcf",
        "outputId": "547074ea-a0c8-4d2d-d7f8-273c07e6e9a2"
      },
      "outputs": [
        {
          "output_type": "execute_result",
          "data": {
            "text/plain": [
              "tensor([7, 8])"
            ]
          },
          "metadata": {},
          "execution_count": 46
        }
      ],
      "source": [
        "matrix[1]"
      ]
    },
    {
      "cell_type": "code",
      "execution_count": 47,
      "metadata": {
        "colab": {
          "base_uri": "https://localhost:8080/"
        },
        "id": "jelX_rwe2zz-",
        "outputId": "f251e584-5d03-4586-ddc2-16b65820edd5"
      },
      "outputs": [
        {
          "output_type": "execute_result",
          "data": {
            "text/plain": [
              "torch.Size([2, 2])"
            ]
          },
          "metadata": {},
          "execution_count": 47
        }
      ],
      "source": [
        "matrix.shape"
      ]
    },
    {
      "cell_type": "code",
      "execution_count": 48,
      "metadata": {
        "colab": {
          "base_uri": "https://localhost:8080/"
        },
        "id": "g1u3QBdm24DQ",
        "outputId": "08fcfbdf-ffba-4393-8291-89a1f0ac661d"
      },
      "outputs": [
        {
          "output_type": "execute_result",
          "data": {
            "text/plain": [
              "tensor([[[1, 2, 3],\n",
              "         [3, 4, 5],\n",
              "         [6, 7, 8]]])"
            ]
          },
          "metadata": {},
          "execution_count": 48
        }
      ],
      "source": [
        "# tensor\n",
        "tensor = torch.tensor([[[1, 2, 3],\n",
        "                        [3, 4, 5],\n",
        "                        [6, 7, 8]]])\n",
        "tensor"
      ]
    },
    {
      "cell_type": "code",
      "execution_count": 49,
      "metadata": {
        "colab": {
          "base_uri": "https://localhost:8080/"
        },
        "id": "kHwGcar436Il",
        "outputId": "afcb61d7-1b0b-4613-c988-6c2e156e8290"
      },
      "outputs": [
        {
          "output_type": "execute_result",
          "data": {
            "text/plain": [
              "3"
            ]
          },
          "metadata": {},
          "execution_count": 49
        }
      ],
      "source": [
        "tensor.ndim\n"
      ]
    },
    {
      "cell_type": "code",
      "execution_count": 50,
      "metadata": {
        "colab": {
          "base_uri": "https://localhost:8080/"
        },
        "id": "sU353lHf3-T1",
        "outputId": "3f0e65cb-b951-4435-c8da-a694ac8a429a"
      },
      "outputs": [
        {
          "output_type": "execute_result",
          "data": {
            "text/plain": [
              "torch.Size([1, 3, 3])"
            ]
          },
          "metadata": {},
          "execution_count": 50
        }
      ],
      "source": [
        "tensor.shape"
      ]
    },
    {
      "cell_type": "code",
      "execution_count": 51,
      "metadata": {
        "colab": {
          "base_uri": "https://localhost:8080/"
        },
        "id": "31P8USIT4HxR",
        "outputId": "c272452d-0a52-451f-dd2a-2fd4e2ea343a"
      },
      "outputs": [
        {
          "output_type": "execute_result",
          "data": {
            "text/plain": [
              "tensor([[1, 2, 3],\n",
              "        [3, 4, 5],\n",
              "        [6, 7, 8]])"
            ]
          },
          "metadata": {},
          "execution_count": 51
        }
      ],
      "source": [
        "tensor[0]"
      ]
    },
    {
      "cell_type": "code",
      "execution_count": 52,
      "metadata": {
        "id": "kgCIP8IQNrpf"
      },
      "outputs": [],
      "source": [
        "#random tensors\n",
        "#random tensors are important because of the way that many neural networks learn is that they start with tensors full of random numbers and then adjust thos random numbers to better reprsent the given data\n",
        "#start with random numbers -> look at data -> updtae random numbers _. look at data-> update random numbers\n"
      ]
    },
    {
      "cell_type": "code",
      "execution_count": 53,
      "metadata": {
        "colab": {
          "base_uri": "https://localhost:8080/"
        },
        "id": "X4iC_W-fPOiW",
        "outputId": "fa300fe6-3f07-401c-bc36-f073ebe084d9"
      },
      "outputs": [
        {
          "output_type": "stream",
          "name": "stdout",
          "text": [
            "tensor([[0.0773, 0.3937, 0.9086, 0.2488, 0.9221],\n",
            "        [0.3695, 0.6023, 0.6032, 0.2281, 0.0639],\n",
            "        [0.1891, 0.1757, 0.4099, 0.9300, 0.8558],\n",
            "        [0.6913, 0.8895, 0.8969, 0.6493, 0.8234],\n",
            "        [0.8699, 0.7015, 0.9297, 0.1027, 0.1046],\n",
            "        [0.3930, 0.1933, 0.4825, 0.8578, 0.4937],\n",
            "        [0.4494, 0.4824, 0.6541, 0.1383, 0.2765],\n",
            "        [0.4469, 0.5776, 0.6732, 0.3427, 0.4368],\n",
            "        [0.4947, 0.8511, 0.9718, 0.6292, 0.8769],\n",
            "        [0.7487, 0.6753, 0.7735, 0.4254, 0.5112]])\n"
          ]
        },
        {
          "output_type": "execute_result",
          "data": {
            "text/plain": [
              "2"
            ]
          },
          "metadata": {},
          "execution_count": 53
        }
      ],
      "source": [
        "# create random numbers give it size\n",
        "rand_tens=torch.rand(10, 5,)\n",
        "print(rand_tens)\n",
        "rand_tens.ndim\n"
      ]
    },
    {
      "cell_type": "code",
      "execution_count": 54,
      "metadata": {
        "colab": {
          "base_uri": "https://localhost:8080/"
        },
        "id": "BCAIl6ouQFYk",
        "outputId": "4798c703-e8b8-49cf-857e-b13eef7046a6"
      },
      "outputs": [
        {
          "output_type": "execute_result",
          "data": {
            "text/plain": [
              "3"
            ]
          },
          "metadata": {},
          "execution_count": 54
        }
      ],
      "source": [
        "#make random tensor with a similar shape to a image tensor\n",
        "rist=torch.rand(size=(224, 224, 3))#hight, width, color channel(red green blue)\n",
        "rist.shape\n",
        "rist.ndim"
      ]
    },
    {
      "cell_type": "code",
      "execution_count": 55,
      "metadata": {
        "colab": {
          "base_uri": "https://localhost:8080/"
        },
        "id": "ijZjF9iERVAQ",
        "outputId": "2757cd8a-6a13-4d26-f025-988a1bde5f99"
      },
      "outputs": [
        {
          "output_type": "execute_result",
          "data": {
            "text/plain": [
              "tensor([[0., 0., 0., 0.],\n",
              "        [0., 0., 0., 0.],\n",
              "        [0., 0., 0., 0.]])"
            ]
          },
          "metadata": {},
          "execution_count": 55
        }
      ],
      "source": [
        "#create tensor with all zeros\n",
        "z=torch.zeros(size=(3, 4))\n",
        "z"
      ]
    },
    {
      "cell_type": "code",
      "execution_count": 56,
      "metadata": {
        "colab": {
          "base_uri": "https://localhost:8080/"
        },
        "id": "V4OfYuACSE-8",
        "outputId": "17d199bd-7514-430c-fe73-94aff10996f4"
      },
      "outputs": [
        {
          "output_type": "execute_result",
          "data": {
            "text/plain": [
              "tensor([[1., 1., 1., 1.],\n",
              "        [1., 1., 1., 1.],\n",
              "        [1., 1., 1., 1.]])"
            ]
          },
          "metadata": {},
          "execution_count": 56
        }
      ],
      "source": [
        "o=torch.ones(size=(3, 4))\n",
        "o"
      ]
    },
    {
      "cell_type": "code",
      "execution_count": 57,
      "metadata": {
        "colab": {
          "base_uri": "https://localhost:8080/"
        },
        "id": "2GogrzMdWsge",
        "outputId": "4f24b26a-2ae7-4cc1-a8e1-aa2f669e825d"
      },
      "outputs": [
        {
          "output_type": "execute_result",
          "data": {
            "text/plain": [
              "tensor([0, 2, 4, 6, 8])"
            ]
          },
          "metadata": {},
          "execution_count": 57
        }
      ],
      "source": [
        "ghe=torch.arange(0, 10)\n",
        "torch.arange(start=0, end=10, step=2)"
      ]
    },
    {
      "cell_type": "code",
      "execution_count": 58,
      "metadata": {
        "colab": {
          "base_uri": "https://localhost:8080/"
        },
        "id": "wh1bbtRCXiDp",
        "outputId": "13803dc8-2702-4c90-fb03-7b0ea6704156"
      },
      "outputs": [
        {
          "output_type": "execute_result",
          "data": {
            "text/plain": [
              "tensor([0, 0, 0, 0, 0, 0, 0, 0, 0, 0])"
            ]
          },
          "metadata": {},
          "execution_count": 58
        }
      ],
      "source": [
        "#creating tensors like\n",
        "trunk=torch.zeros_like(input=ghe)\n",
        "trunk"
      ]
    },
    {
      "cell_type": "code",
      "execution_count": 59,
      "metadata": {
        "colab": {
          "base_uri": "https://localhost:8080/"
        },
        "id": "dsem6ZDLYg8W",
        "outputId": "5f994341-dae4-4746-9660-2fd122623ce8"
      },
      "outputs": [
        {
          "output_type": "execute_result",
          "data": {
            "text/plain": [
              "tensor([3., 6., 9.])"
            ]
          },
          "metadata": {},
          "execution_count": 59
        }
      ],
      "source": [
        "#tensor datatypes\n",
        "#float32 tensor\n",
        "f32t=torch.tensor([3.0, 6.0, 9.0],\n",
        "                  dtype=None, #what data type e.g float32 or float16 or float64 the number is how many bitshte higher the number the more presision\n",
        "                  device=None,#device your tensor is on\n",
        "                  requires_grad=False)\n",
        "f32t"
      ]
    },
    {
      "cell_type": "markdown",
      "metadata": {
        "id": "KfhFOG1ONOw6"
      },
      "source": [
        "note tensor data type is one of the 3 biggest error that are commenly run into during deep learning with pytorch\n",
        "\n",
        "1.   tensor is no the right dtata type\n",
        "2.   List itemtenor is not the right shap\n",
        "3.   tensor is not on the right device\n",
        "\n"
      ]
    },
    {
      "cell_type": "code",
      "execution_count": 60,
      "metadata": {
        "colab": {
          "base_uri": "https://localhost:8080/"
        },
        "id": "TmLJojSwLhJS",
        "outputId": "1121549e-a4af-444b-ead9-d10a638db659"
      },
      "outputs": [
        {
          "output_type": "execute_result",
          "data": {
            "text/plain": [
              "torch.float32"
            ]
          },
          "metadata": {},
          "execution_count": 60
        }
      ],
      "source": [
        "f32t.dtype"
      ]
    },
    {
      "cell_type": "code",
      "execution_count": 61,
      "metadata": {
        "colab": {
          "base_uri": "https://localhost:8080/"
        },
        "id": "qDmdtHmgOiYp",
        "outputId": "3aae8a5d-f473-4219-f1bf-2bc60496c256"
      },
      "outputs": [
        {
          "output_type": "execute_result",
          "data": {
            "text/plain": [
              "tensor([3., 6., 9.], dtype=torch.float16)"
            ]
          },
          "metadata": {},
          "execution_count": 61
        }
      ],
      "source": [
        "f16t=f32t.type(torch.float16)\n",
        "f16t"
      ]
    },
    {
      "cell_type": "code",
      "execution_count": 62,
      "metadata": {
        "colab": {
          "base_uri": "https://localhost:8080/"
        },
        "id": "UMnDQ-mBO8G4",
        "outputId": "51af70fa-51ff-42f0-b974-d92f30928e49"
      },
      "outputs": [
        {
          "output_type": "execute_result",
          "data": {
            "text/plain": [
              "tensor([ 9., 36., 81.])"
            ]
          },
          "metadata": {},
          "execution_count": 62
        }
      ],
      "source": [
        "f16t*f32t"
      ]
    },
    {
      "cell_type": "code",
      "execution_count": 63,
      "metadata": {
        "colab": {
          "base_uri": "https://localhost:8080/"
        },
        "id": "hkgOXChgPCxF",
        "outputId": "4b1b64ab-495c-4574-bd08-5d64ad4a68bd"
      },
      "outputs": [
        {
          "output_type": "execute_result",
          "data": {
            "text/plain": [
              "tensor([3, 6, 9])"
            ]
          },
          "metadata": {},
          "execution_count": 63
        }
      ],
      "source": [
        "int32=torch.tensor([3, 6, 9], dtype=torch.int32)\n",
        "int32\n",
        "\n",
        "\n",
        "int32=torch.tensor([3, 6, 9], dtype=torch.long)\n",
        "int32"
      ]
    },
    {
      "cell_type": "code",
      "execution_count": 64,
      "metadata": {
        "colab": {
          "base_uri": "https://localhost:8080/"
        },
        "id": "fj4hmxgHPmtq",
        "outputId": "409fae67-5a9d-46e7-c643-abdfc4236caa"
      },
      "outputs": [
        {
          "output_type": "execute_result",
          "data": {
            "text/plain": [
              "tensor([ 6., 12., 18.])"
            ]
          },
          "metadata": {},
          "execution_count": 64
        }
      ],
      "source": [
        "f32t+int32"
      ]
    },
    {
      "cell_type": "code",
      "execution_count": 65,
      "metadata": {
        "id": "T_uQaKrPQHP8"
      },
      "outputs": [],
      "source": [
        "#getting info from tensor\n",
        "\n",
        "#    tensor is no the right dtata type -- to get data type from tensor use \"tensor.dtype\"\n",
        "#    List itemtenor is not the right shap -- to get shape of tensor use \"tensor.shape\"\n",
        "#    tensor is not on the right device -- to get device tensor is on use \"tensor.device\"\n"
      ]
    },
    {
      "cell_type": "code",
      "execution_count": 66,
      "metadata": {
        "colab": {
          "base_uri": "https://localhost:8080/"
        },
        "id": "TLkY6xAwR5MQ",
        "outputId": "c21dd400-f75b-48c8-c856-14dfb13ed3ad"
      },
      "outputs": [
        {
          "output_type": "stream",
          "name": "stdout",
          "text": [
            "tensor([[0.7226, 0.5121, 0.3928, 0.0159],\n",
            "        [0.4780, 0.5445, 0.9335, 0.9071],\n",
            "        [0.1968, 0.6376, 0.4592, 0.5290]])\n",
            "tensor device: cpu\n",
            "tensor shape: torch.Size([3, 4])\n",
            "tensor dimensions: 2\n",
            "tensor data type: torch.float32\n"
          ]
        }
      ],
      "source": [
        "# create a tensor and get their attributes\n",
        "scp=torch.rand(3, 4)\n",
        "print(scp)\n",
        "print(f'tensor device: {scp.device}')\n",
        "print(f'tensor shape: {scp.shape}')\n",
        "print(f'tensor dimensions: {scp.ndim}')\n",
        "print(f'tensor data type: {scp.dtype}')"
      ]
    },
    {
      "cell_type": "code",
      "execution_count": 67,
      "metadata": {
        "colab": {
          "base_uri": "https://localhost:8080/"
        },
        "id": "MPkNhSXOWDm6",
        "outputId": "ded489a9-232a-4084-df33-f351cdf4e8bf"
      },
      "outputs": [
        {
          "output_type": "stream",
          "name": "stdout",
          "text": [
            "tensor([1, 2, 3]) * tensor([1, 2, 3])\n",
            "equals:tensor([1, 4, 9])\n"
          ]
        }
      ],
      "source": [
        "#element wise multiplication\n",
        "trunip=torch.tensor([1, 2, 3])\n",
        "rump=torch.tensor([1, 2, 3])\n",
        "trunip\n",
        "rump\n",
        "print(trunip, \"*\", rump)\n",
        "print(f'equals:{rump*trunip}')"
      ]
    },
    {
      "cell_type": "code",
      "execution_count": 68,
      "metadata": {
        "colab": {
          "base_uri": "https://localhost:8080/"
        },
        "id": "b01XajeXFhcC",
        "outputId": "759689f0-507f-4baf-a47c-e8de4715c547"
      },
      "outputs": [
        {
          "output_type": "execute_result",
          "data": {
            "text/plain": [
              "tensor(14)"
            ]
          },
          "metadata": {},
          "execution_count": 68
        }
      ],
      "source": [
        "#matriz multiplication\n",
        "torch.matmul(rump,rump)"
      ]
    },
    {
      "cell_type": "code",
      "execution_count": 77,
      "metadata": {
        "colab": {
          "base_uri": "https://localhost:8080/"
        },
        "id": "BKptgW8PmMTU",
        "outputId": "dd88ff71-c6d1-4149-ae0c-4b3c6eb36b8f"
      },
      "outputs": [
        {
          "output_type": "execute_result",
          "data": {
            "text/plain": [
              "tensor(90)"
            ]
          },
          "metadata": {},
          "execution_count": 77
        }
      ],
      "source": [
        "## finding the min max mean sum of a tensor\n",
        "## torch.mean function needs float 32 or float dtype to work\n",
        "x=torch.arange(0, 100, 10)\n",
        "x.min()\n",
        "x.type(torch.float32).mean()\n",
        "x.max()\n",
        "x.sum()"
      ]
    }
  ],
  "metadata": {
    "colab": {
      "provenance": [],
      "authorship_tag": "ABX9TyPP8J83fc1MB+16jYvwvtCz",
      "include_colab_link": true
    },
    "kernelspec": {
      "display_name": "Python 3",
      "name": "python3"
    },
    "language_info": {
      "name": "python"
    }
  },
  "nbformat": 4,
  "nbformat_minor": 0
}